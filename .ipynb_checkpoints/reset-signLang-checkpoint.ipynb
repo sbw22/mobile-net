{
 "cells": [
  {
   "cell_type": "code",
   "execution_count": 1,
   "id": "7dcd96e5-618a-4608-966c-05bc76d4d037",
   "metadata": {},
   "outputs": [],
   "source": [
    "import numpy as np\n",
    "import keras\n",
    "from keras import backend as K\n",
    "from keras.models import Sequential\n",
    "from keras.layers import Activation\n",
    "from tensorflow.keras.layers import Input, Dense, Flatten, Conv2D, MaxPool2D, GlobalAveragePooling2D\n",
    "from keras.optimizers import Adam\n",
    "from keras.metrics import categorical_crossentropy\n",
    "from tensorflow.keras.preprocessing.image import ImageDataGenerator\n",
    "from tensorflow.keras.layers import BatchNormalization\n",
    "from tensorflow.keras.layers import *\n",
    "from keras.models import Model\n",
    "from keras.applications import imagenet_utils\n",
    "from keras.preprocessing import image\n",
    "import matplotlib.pyplot as plt \n",
    "from sklearn.metrics import confusion_matrix\n",
    "import itertools\n",
    "%matplotlib inline\n",
    "\n",
    "import os"
   ]
  },
  {
   "cell_type": "code",
   "execution_count": 2,
   "id": "52b22349-9b1b-4e21-9089-d3b8a59ebd42",
   "metadata": {},
   "outputs": [
    {
     "name": "stdout",
     "output_type": "stream",
     "text": [
      "/Users/spencerweishaar/machineLearning/mobile_net\n"
     ]
    }
   ],
   "source": [
    "print(os.getcwd())"
   ]
  },
  {
   "cell_type": "code",
   "execution_count": 3,
   "id": "8f4d5723-9099-4f18-83da-7cde8cdc750e",
   "metadata": {},
   "outputs": [
    {
     "name": "stdout",
     "output_type": "stream",
     "text": [
      "/Users/spencerweishaar/machineLearning/mobile_net/signLangDataset/test\n"
     ]
    }
   ],
   "source": [
    "%cd signLangDataset/test"
   ]
  },
  {
   "cell_type": "code",
   "execution_count": 4,
   "id": "e064d4f8-65cb-47ff-b297-21fef28866c3",
   "metadata": {},
   "outputs": [],
   "source": [
    "%%bash\n",
    "for ((i=0; i<=9; i++)); do\n",
    "    a=$(find $i/ -type f)\n",
    "    for file in $a; do\n",
    "        mv $file ../train/$i/\n",
    "    done\n",
    "done"
   ]
  },
  {
   "cell_type": "code",
   "execution_count": 5,
   "id": "3b641182-55ce-43be-916a-153f8b374767",
   "metadata": {},
   "outputs": [
    {
     "name": "stdout",
     "output_type": "stream",
     "text": [
      "/Users/spencerweishaar/machineLearning/mobile_net/signLangDataset/test\n"
     ]
    }
   ],
   "source": [
    "print(os.getcwd())"
   ]
  },
  {
   "cell_type": "code",
   "execution_count": 6,
   "id": "461b93f8-b922-4a74-bd2f-cc15fbe26c14",
   "metadata": {},
   "outputs": [
    {
     "name": "stdout",
     "output_type": "stream",
     "text": [
      "/Users/spencerweishaar/machineLearning/mobile_net/signLangDataset/valid\n"
     ]
    }
   ],
   "source": [
    "%cd ../valid"
   ]
  },
  {
   "cell_type": "code",
   "execution_count": 7,
   "id": "9aa6180f-d50f-4812-9e04-bb809dab7d1c",
   "metadata": {},
   "outputs": [],
   "source": [
    "%%bash\n",
    "for ((i=0; i<=9; i++)); do\n",
    "    a=$(find $i/ -type f)\n",
    "    for file in $a; do\n",
    "        mv $file ../train/$i/\n",
    "    done\n",
    "done"
   ]
  },
  {
   "cell_type": "code",
   "execution_count": 8,
   "id": "dc35fc78-ed6a-4307-86ee-7692d71e23c9",
   "metadata": {},
   "outputs": [
    {
     "name": "stdout",
     "output_type": "stream",
     "text": [
      "/Users/spencerweishaar/machineLearning/mobile_net/signLangDataset/valid\n"
     ]
    }
   ],
   "source": [
    "print(os.getcwd())"
   ]
  },
  {
   "cell_type": "code",
   "execution_count": null,
   "id": "12882473-fd61-4345-92cc-a5b6a2d5acb3",
   "metadata": {},
   "outputs": [],
   "source": []
  }
 ],
 "metadata": {
  "kernelspec": {
   "display_name": "Python 3 (ipykernel)",
   "language": "python",
   "name": "python3"
  },
  "language_info": {
   "codemirror_mode": {
    "name": "ipython",
    "version": 3
   },
   "file_extension": ".py",
   "mimetype": "text/x-python",
   "name": "python",
   "nbconvert_exporter": "python",
   "pygments_lexer": "ipython3",
   "version": "3.12.5"
  }
 },
 "nbformat": 4,
 "nbformat_minor": 5
}
